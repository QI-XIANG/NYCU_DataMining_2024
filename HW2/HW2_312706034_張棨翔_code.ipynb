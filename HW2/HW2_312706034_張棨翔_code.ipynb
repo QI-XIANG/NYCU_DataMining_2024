{
 "cells": [
  {
   "cell_type": "markdown",
   "metadata": {},
   "source": [
    "### 1. TF-IDF"
   ]
  },
  {
   "cell_type": "code",
   "execution_count": 2,
   "metadata": {},
   "outputs": [
    {
     "name": "stderr",
     "output_type": "stream",
     "text": [
      "[nltk_data] Downloading package stopwords to\n",
      "[nltk_data]     C:\\Users\\win7-006\\AppData\\Roaming\\nltk_data...\n",
      "[nltk_data]   Package stopwords is already up-to-date!\n"
     ]
    },
    {
     "name": "stdout",
     "output_type": "stream",
     "text": [
      "Cross-validation scores: [0.7904 0.792  0.7936 0.8012]\n",
      "Average accuracy: 0.7943\n"
     ]
    }
   ],
   "source": [
    "import pandas as pd\n",
    "import nltk\n",
    "from nltk.corpus import stopwords\n",
    "from sklearn.feature_extraction.text import TfidfVectorizer\n",
    "from sklearn.ensemble import RandomForestClassifier\n",
    "from sklearn.model_selection import cross_val_score\n",
    "\n",
    "df = pd.read_csv(\"Reviews.csv\")\n",
    "\n",
    "#only preserve the first 10000 rows\n",
    "df = df[:10000]\n",
    "\n",
    "#only preserve the 'Score' and 'Text' columns\n",
    "df = df[['Score', 'Text']]\n",
    "\n",
    "# Convert the values in the \"Score\" column that are greater than or equal to 4 to 1, and the rest to 0 (1: positive, 0: negative)\n",
    "df['Score'] = df['Score'].apply(lambda x: 1 if x >= 4 else 0)\n",
    "\n",
    "#Split the text in the \"Text\" column using a delimiter\n",
    "df['Text'] = df['Text'].str.split()\n",
    "\n",
    "#Remove stop words\n",
    "nltk.download('stopwords')\n",
    "stop_words = stopwords.words('english')\n",
    "df['Text'] = df['Text'].apply(lambda x: [word for word in x if word not in stop_words])\n",
    "\n",
    "#Text mining preprocessing, converting text into vectors, implement tf-idf (sklearn.feature_extraction.text.TfidfVectorizer)\n",
    "tfidf = TfidfVectorizer()\n",
    "df['Text'] = df['Text'].apply(lambda x: ' '.join(x))\n",
    "\n",
    "#Apply tf-idf to the \"Text\" column\n",
    "tfidf_matrix = tfidf.fit_transform(df['Text'])\n",
    "tfidf_matrix\n",
    "\n",
    "#Use Random Forest Classifier (TF-IDF)\n",
    "clf = RandomForestClassifier()\n",
    "clf.fit(tfidf_matrix, df['Score'])\n",
    "\n",
    "#Perform k-fold cross-validation and calculate the accuracy for k=4\n",
    "scores = cross_val_score(clf, tfidf_matrix, df['Score'], cv=4, scoring='accuracy')\n",
    "print(f'Cross-validation scores: {scores}')\n",
    "print(f'Average accuracy: {scores.mean():.4f}')"
   ]
  },
  {
   "cell_type": "markdown",
   "metadata": {},
   "source": [
    "### 2. Word2Vec"
   ]
  },
  {
   "cell_type": "code",
   "execution_count": 1,
   "metadata": {},
   "outputs": [
    {
     "name": "stderr",
     "output_type": "stream",
     "text": [
      "[nltk_data] Downloading package stopwords to\n",
      "[nltk_data]     C:\\Users\\win7-006\\AppData\\Roaming\\nltk_data...\n",
      "[nltk_data]   Package stopwords is already up-to-date!\n"
     ]
    },
    {
     "name": "stdout",
     "output_type": "stream",
     "text": [
      "Cross-validation scores: [0.7676 0.7624 0.7548 0.7596]\n",
      "Average accuracy: 0.7611\n"
     ]
    }
   ],
   "source": [
    "import pandas as pd\n",
    "import nltk\n",
    "from nltk.corpus import stopwords\n",
    "from gensim.models import Word2Vec\n",
    "from sklearn.ensemble import RandomForestClassifier\n",
    "from sklearn.model_selection import cross_val_score\n",
    "import numpy as np\n",
    "\n",
    "# Load the dataset\n",
    "df = pd.read_csv(\"Reviews.csv\")\n",
    "\n",
    "# Preserve only the first 10000 rows and select 'Score' and 'Text' columns\n",
    "df = df[['Score', 'Text']].head(10000)\n",
    "\n",
    "# Convert 'Score' to binary (1 for positive, 0 for negative sentiment)\n",
    "df['Score'] = df['Score'].apply(lambda x: 1 if x >= 4 else 0)\n",
    "\n",
    "# Download necessary NLTK resources\n",
    "nltk.download('stopwords')\n",
    "stop_words = set(stopwords.words('english'))\n",
    "\n",
    "# Preprocess the text (tokenization and stopword removal)\n",
    "df['Text'] = df['Text'].apply(lambda x: [word for word in x.lower().split() if word not in stop_words])\n",
    "\n",
    "# Train Word2Vec model on the tokenized text\n",
    "w2v = Word2Vec(df['Text'], vector_size=100, window=5, min_count=2)\n",
    "\n",
    "# Compute the average Word2Vec vector for each document\n",
    "def document_vector(text):\n",
    "    # Filter words that are in the Word2Vec model's vocabulary\n",
    "    words = [word for word in text if word in w2v.wv]\n",
    "    if len(words) == 0:  # If none of the words are in the vocabulary, return a zero vector\n",
    "        return np.zeros(100)\n",
    "    # Average the word vectors\n",
    "    return np.mean(w2v.wv[words], axis=0)\n",
    "\n",
    "# Apply the function to create a document vector for each review\n",
    "w2v_matrix = np.vstack(df['Text'].apply(document_vector))\n",
    "\n",
    "# Use Random Forest Classifier on the Word2Vec vectors\n",
    "clf = RandomForestClassifier()\n",
    "clf.fit(w2v_matrix, df['Score'])\n",
    "\n",
    "# Perform 4-fold cross-validation and print the accuracy\n",
    "scores = cross_val_score(clf, w2v_matrix, df['Score'], cv=4, scoring='accuracy')\n",
    "print(f'Cross-validation scores: {scores}')\n",
    "print(f'Average accuracy: {scores.mean():.4f}')\n"
   ]
  }
 ],
 "metadata": {
  "kernelspec": {
   "display_name": "Python 3",
   "language": "python",
   "name": "python3"
  },
  "language_info": {
   "codemirror_mode": {
    "name": "ipython",
    "version": 3
   },
   "file_extension": ".py",
   "mimetype": "text/x-python",
   "name": "python",
   "nbconvert_exporter": "python",
   "pygments_lexer": "ipython3",
   "version": "3.8.1"
  }
 },
 "nbformat": 4,
 "nbformat_minor": 2
}
