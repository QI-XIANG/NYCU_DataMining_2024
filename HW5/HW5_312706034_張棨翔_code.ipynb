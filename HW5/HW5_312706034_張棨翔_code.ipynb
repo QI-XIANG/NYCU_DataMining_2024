{
 "cells": [
  {
   "cell_type": "code",
   "execution_count": 1,
   "metadata": {},
   "outputs": [
    {
     "data": {
      "text/html": [
       "<div>\n",
       "<style scoped>\n",
       "    .dataframe tbody tr th:only-of-type {\n",
       "        vertical-align: middle;\n",
       "    }\n",
       "\n",
       "    .dataframe tbody tr th {\n",
       "        vertical-align: top;\n",
       "    }\n",
       "\n",
       "    .dataframe thead th {\n",
       "        text-align: right;\n",
       "    }\n",
       "</style>\n",
       "<table border=\"1\" class=\"dataframe\">\n",
       "  <thead>\n",
       "    <tr style=\"text-align: right;\">\n",
       "      <th></th>\n",
       "      <th>TrainDataID</th>\n",
       "      <th>UserID</th>\n",
       "      <th>MovieID</th>\n",
       "      <th>Rating</th>\n",
       "    </tr>\n",
       "  </thead>\n",
       "  <tbody>\n",
       "    <tr>\n",
       "      <th>0</th>\n",
       "      <td>1</td>\n",
       "      <td>796</td>\n",
       "      <td>1193</td>\n",
       "      <td>5</td>\n",
       "    </tr>\n",
       "    <tr>\n",
       "      <th>1</th>\n",
       "      <td>2</td>\n",
       "      <td>796</td>\n",
       "      <td>661</td>\n",
       "      <td>3</td>\n",
       "    </tr>\n",
       "    <tr>\n",
       "      <th>2</th>\n",
       "      <td>3</td>\n",
       "      <td>796</td>\n",
       "      <td>914</td>\n",
       "      <td>3</td>\n",
       "    </tr>\n",
       "    <tr>\n",
       "      <th>3</th>\n",
       "      <td>4</td>\n",
       "      <td>796</td>\n",
       "      <td>3408</td>\n",
       "      <td>4</td>\n",
       "    </tr>\n",
       "    <tr>\n",
       "      <th>4</th>\n",
       "      <td>5</td>\n",
       "      <td>796</td>\n",
       "      <td>2355</td>\n",
       "      <td>5</td>\n",
       "    </tr>\n",
       "  </tbody>\n",
       "</table>\n",
       "</div>"
      ],
      "text/plain": [
       "   TrainDataID  UserID  MovieID  Rating\n",
       "0            1     796     1193       5\n",
       "1            2     796      661       3\n",
       "2            3     796      914       3\n",
       "3            4     796     3408       4\n",
       "4            5     796     2355       5"
      ]
     },
     "execution_count": 1,
     "metadata": {},
     "output_type": "execute_result"
    }
   ],
   "source": [
    "import pandas as pd\n",
    "\n",
    "df = pd.read_csv('movieRating.csv')\n",
    "df.head()"
   ]
  },
  {
   "cell_type": "code",
   "execution_count": 2,
   "metadata": {},
   "outputs": [
    {
     "data": {
      "text/html": [
       "<div>\n",
       "<style scoped>\n",
       "    .dataframe tbody tr th:only-of-type {\n",
       "        vertical-align: middle;\n",
       "    }\n",
       "\n",
       "    .dataframe tbody tr th {\n",
       "        vertical-align: top;\n",
       "    }\n",
       "\n",
       "    .dataframe thead th {\n",
       "        text-align: right;\n",
       "    }\n",
       "</style>\n",
       "<table border=\"1\" class=\"dataframe\">\n",
       "  <thead>\n",
       "    <tr style=\"text-align: right;\">\n",
       "      <th></th>\n",
       "      <th>UserID</th>\n",
       "      <th>MovieID</th>\n",
       "      <th>Rating</th>\n",
       "    </tr>\n",
       "  </thead>\n",
       "  <tbody>\n",
       "    <tr>\n",
       "      <th>0</th>\n",
       "      <td>796</td>\n",
       "      <td>1193</td>\n",
       "      <td>5</td>\n",
       "    </tr>\n",
       "    <tr>\n",
       "      <th>1</th>\n",
       "      <td>796</td>\n",
       "      <td>661</td>\n",
       "      <td>3</td>\n",
       "    </tr>\n",
       "    <tr>\n",
       "      <th>2</th>\n",
       "      <td>796</td>\n",
       "      <td>914</td>\n",
       "      <td>3</td>\n",
       "    </tr>\n",
       "    <tr>\n",
       "      <th>3</th>\n",
       "      <td>796</td>\n",
       "      <td>3408</td>\n",
       "      <td>4</td>\n",
       "    </tr>\n",
       "    <tr>\n",
       "      <th>4</th>\n",
       "      <td>796</td>\n",
       "      <td>2355</td>\n",
       "      <td>5</td>\n",
       "    </tr>\n",
       "  </tbody>\n",
       "</table>\n",
       "</div>"
      ],
      "text/plain": [
       "   UserID  MovieID  Rating\n",
       "0     796     1193       5\n",
       "1     796      661       3\n",
       "2     796      914       3\n",
       "3     796     3408       4\n",
       "4     796     2355       5"
      ]
     },
     "execution_count": 2,
     "metadata": {},
     "output_type": "execute_result"
    }
   ],
   "source": [
    "# remove the unnecessary columns\n",
    "df.drop(['TrainDataID'], axis=1, inplace=True)\n",
    "df.head()"
   ]
  },
  {
   "cell_type": "code",
   "execution_count": 3,
   "metadata": {},
   "outputs": [
    {
     "data": {
      "text/plain": [
       "UserID     6040\n",
       "MovieID    3688\n",
       "Rating        5\n",
       "dtype: int64"
      ]
     },
     "execution_count": 3,
     "metadata": {},
     "output_type": "execute_result"
    }
   ],
   "source": [
    "# explore the data\n",
    "# find count of unique values in each column\n",
    "df.nunique()"
   ]
  },
  {
   "cell_type": "code",
   "execution_count": 4,
   "metadata": {},
   "outputs": [
    {
     "data": {
      "text/plain": [
       "1"
      ]
     },
     "execution_count": 4,
     "metadata": {},
     "output_type": "execute_result"
    }
   ],
   "source": [
    "#find min user id\n",
    "df['UserID'].min()"
   ]
  },
  {
   "cell_type": "code",
   "execution_count": 5,
   "metadata": {},
   "outputs": [
    {
     "data": {
      "text/plain": [
       "6040"
      ]
     },
     "execution_count": 5,
     "metadata": {},
     "output_type": "execute_result"
    }
   ],
   "source": [
    "#find max user id\n",
    "df['UserID'].max()"
   ]
  },
  {
   "cell_type": "code",
   "execution_count": 6,
   "metadata": {},
   "outputs": [
    {
     "data": {
      "text/plain": [
       "1"
      ]
     },
     "execution_count": 6,
     "metadata": {},
     "output_type": "execute_result"
    }
   ],
   "source": [
    "#find min movie id\n",
    "df['MovieID'].min()"
   ]
  },
  {
   "cell_type": "code",
   "execution_count": 7,
   "metadata": {},
   "outputs": [
    {
     "data": {
      "text/plain": [
       "3952"
      ]
     },
     "execution_count": 7,
     "metadata": {},
     "output_type": "execute_result"
    }
   ],
   "source": [
    "#find max movie id\n",
    "df['MovieID'].max()"
   ]
  },
  {
   "cell_type": "code",
   "execution_count": 8,
   "metadata": {},
   "outputs": [],
   "source": [
    "user_count = df['UserID'].max()\n",
    "movie_count = df['MovieID'].max()"
   ]
  },
  {
   "cell_type": "code",
   "execution_count": 9,
   "metadata": {},
   "outputs": [
    {
     "data": {
      "text/html": [
       "<div>\n",
       "<style scoped>\n",
       "    .dataframe tbody tr th:only-of-type {\n",
       "        vertical-align: middle;\n",
       "    }\n",
       "\n",
       "    .dataframe tbody tr th {\n",
       "        vertical-align: top;\n",
       "    }\n",
       "\n",
       "    .dataframe thead th {\n",
       "        text-align: right;\n",
       "    }\n",
       "</style>\n",
       "<table border=\"1\" class=\"dataframe\">\n",
       "  <thead>\n",
       "    <tr style=\"text-align: right;\">\n",
       "      <th></th>\n",
       "      <th>UserID</th>\n",
       "      <th>MovieID</th>\n",
       "      <th>Rating</th>\n",
       "    </tr>\n",
       "  </thead>\n",
       "  <tbody>\n",
       "    <tr>\n",
       "      <th>453930</th>\n",
       "      <td>5491</td>\n",
       "      <td>1954</td>\n",
       "      <td>4</td>\n",
       "    </tr>\n",
       "    <tr>\n",
       "      <th>29312</th>\n",
       "      <td>3181</td>\n",
       "      <td>3911</td>\n",
       "      <td>3</td>\n",
       "    </tr>\n",
       "    <tr>\n",
       "      <th>666399</th>\n",
       "      <td>1372</td>\n",
       "      <td>427</td>\n",
       "      <td>3</td>\n",
       "    </tr>\n",
       "    <tr>\n",
       "      <th>845252</th>\n",
       "      <td>1813</td>\n",
       "      <td>2973</td>\n",
       "      <td>5</td>\n",
       "    </tr>\n",
       "    <tr>\n",
       "      <th>45709</th>\n",
       "      <td>2775</td>\n",
       "      <td>836</td>\n",
       "      <td>2</td>\n",
       "    </tr>\n",
       "  </tbody>\n",
       "</table>\n",
       "</div>"
      ],
      "text/plain": [
       "        UserID  MovieID  Rating\n",
       "453930    5491     1954       4\n",
       "29312     3181     3911       3\n",
       "666399    1372      427       3\n",
       "845252    1813     2973       5\n",
       "45709     2775      836       2"
      ]
     },
     "execution_count": 9,
     "metadata": {},
     "output_type": "execute_result"
    }
   ],
   "source": [
    "# data shuffling\n",
    "from sklearn.utils import shuffle\n",
    "df = shuffle(df)\n",
    "df.head()"
   ]
  },
  {
   "cell_type": "code",
   "execution_count": 10,
   "metadata": {},
   "outputs": [],
   "source": [
    "# split the data into train and test sets\n",
    "from sklearn.model_selection import train_test_split\n",
    "labels = df['Rating']\n",
    "datas = df.drop(['Rating'], axis=1)\n",
    "X_train, X_test, Y_train, Y_test = train_test_split(datas, labels, test_size=0.2, random_state=77)"
   ]
  },
  {
   "cell_type": "code",
   "execution_count": 11,
   "metadata": {},
   "outputs": [
    {
     "data": {
      "text/html": [
       "<div>\n",
       "<style scoped>\n",
       "    .dataframe tbody tr th:only-of-type {\n",
       "        vertical-align: middle;\n",
       "    }\n",
       "\n",
       "    .dataframe tbody tr th {\n",
       "        vertical-align: top;\n",
       "    }\n",
       "\n",
       "    .dataframe thead th {\n",
       "        text-align: right;\n",
       "    }\n",
       "</style>\n",
       "<table border=\"1\" class=\"dataframe\">\n",
       "  <thead>\n",
       "    <tr style=\"text-align: right;\">\n",
       "      <th></th>\n",
       "      <th>UserID</th>\n",
       "      <th>MovieID</th>\n",
       "    </tr>\n",
       "  </thead>\n",
       "  <tbody>\n",
       "    <tr>\n",
       "      <th>476959</th>\n",
       "      <td>3651</td>\n",
       "      <td>2015</td>\n",
       "    </tr>\n",
       "    <tr>\n",
       "      <th>546112</th>\n",
       "      <td>4658</td>\n",
       "      <td>2395</td>\n",
       "    </tr>\n",
       "    <tr>\n",
       "      <th>663582</th>\n",
       "      <td>609</td>\n",
       "      <td>2738</td>\n",
       "    </tr>\n",
       "    <tr>\n",
       "      <th>826011</th>\n",
       "      <td>4417</td>\n",
       "      <td>2456</td>\n",
       "    </tr>\n",
       "    <tr>\n",
       "      <th>351690</th>\n",
       "      <td>3913</td>\n",
       "      <td>2628</td>\n",
       "    </tr>\n",
       "  </tbody>\n",
       "</table>\n",
       "</div>"
      ],
      "text/plain": [
       "        UserID  MovieID\n",
       "476959    3651     2015\n",
       "546112    4658     2395\n",
       "663582     609     2738\n",
       "826011    4417     2456\n",
       "351690    3913     2628"
      ]
     },
     "execution_count": 11,
     "metadata": {},
     "output_type": "execute_result"
    }
   ],
   "source": [
    "X_train.head()"
   ]
  },
  {
   "cell_type": "code",
   "execution_count": null,
   "metadata": {},
   "outputs": [
    {
     "name": "stdout",
     "output_type": "stream",
     "text": [
      "Model: \"model_2\"\n",
      "__________________________________________________________________________________________________\n",
      " Layer (type)                Output Shape                 Param #   Connected to                  \n",
      "==================================================================================================\n",
      " UserID (InputLayer)         [(None, 1)]                  0         []                            \n",
      "                                                                                                  \n",
      " MovieID (InputLayer)        [(None, 1)]                  0         []                            \n",
      "                                                                                                  \n",
      " user_embedding (Embedding)  (None, 1, 32)                193312    ['UserID[0][0]']              \n",
      "                                                                                                  \n",
      " movie_embedding (Embedding  (None, 1, 32)                126496    ['MovieID[0][0]']             \n",
      " )                                                                                                \n",
      "                                                                                                  \n",
      " flatten_8 (Flatten)         (None, 32)                   0         ['user_embedding[0][0]']      \n",
      "                                                                                                  \n",
      " flatten_9 (Flatten)         (None, 32)                   0         ['movie_embedding[0][0]']     \n",
      "                                                                                                  \n",
      " multiply_2 (Multiply)       (None, 32)                   0         ['flatten_8[0][0]',           \n",
      "                                                                     'flatten_9[0][0]']           \n",
      "                                                                                                  \n",
      " dense_7 (Dense)             (None, 128)                  4224      ['multiply_2[0][0]']          \n",
      "                                                                                                  \n",
      " dropout_4 (Dropout)         (None, 128)                  0         ['dense_7[0][0]']             \n",
      "                                                                                                  \n",
      " dense_8 (Dense)             (None, 64)                   8256      ['dropout_4[0][0]']           \n",
      "                                                                                                  \n",
      " dropout_5 (Dropout)         (None, 64)                   0         ['dense_8[0][0]']             \n",
      "                                                                                                  \n",
      " dense_9 (Dense)             (None, 32)                   2080      ['dropout_5[0][0]']           \n",
      "                                                                                                  \n",
      " user_bias (Embedding)       (None, 1, 1)                 6041      ['UserID[0][0]']              \n",
      "                                                                                                  \n",
      " movie_bias (Embedding)      (None, 1, 1)                 3953      ['MovieID[0][0]']             \n",
      "                                                                                                  \n",
      " dense_10 (Dense)            (None, 16)                   528       ['dense_9[0][0]']             \n",
      "                                                                                                  \n",
      " flatten_10 (Flatten)        (None, 1)                    0         ['user_bias[0][0]']           \n",
      "                                                                                                  \n",
      " flatten_11 (Flatten)        (None, 1)                    0         ['movie_bias[0][0]']          \n",
      "                                                                                                  \n",
      " concatenate_2 (Concatenate  (None, 18)                   0         ['dense_10[0][0]',            \n",
      " )                                                                   'flatten_10[0][0]',          \n",
      "                                                                     'flatten_11[0][0]']          \n",
      "                                                                                                  \n",
      " rating_output (Dense)       (None, 1)                    19        ['concatenate_2[0][0]']       \n",
      "                                                                                                  \n",
      "==================================================================================================\n",
      "Total params: 344909 (1.32 MB)\n",
      "Trainable params: 344909 (1.32 MB)\n",
      "Non-trainable params: 0 (0.00 Byte)\n",
      "__________________________________________________________________________________________________\n"
     ]
    }
   ],
   "source": [
    "# create the model for the rating prediction\n",
    "import numpy as np\n",
    "from tensorflow.keras.models import Model\n",
    "from tensorflow.keras.layers import Input, Embedding, Flatten, Dense, Concatenate, Dropout\n",
    "from tensorflow.keras.layers import Multiply\n",
    "\n",
    "# Define model architecture\n",
    "\n",
    "dimension_embedding = 32  # Size of the embedding vector\n",
    "bias = 1  # Size of the bias term\n",
    "\n",
    "# Define model inputs\n",
    "user_input = Input(shape=(1,), name='UserID')\n",
    "movie_input = Input(shape=(1,), name='MovieID')\n",
    "\n",
    "# Embedding layers\n",
    "user_embedding = Embedding(user_count + 1, dimension_embedding, name='user_embedding')(user_input)\n",
    "movie_embedding = Embedding(movie_count + 1, dimension_embedding, name='movie_embedding')(movie_input)\n",
    "\n",
    "# Bias terms\n",
    "user_bias = Embedding(user_count + 1, bias, name='user_bias')(user_input)\n",
    "movie_bias = Embedding(movie_count + 1, bias, name='movie_bias')(movie_input)\n",
    "\n",
    "# Flatten embeddings and biases\n",
    "user_vector = Flatten()(user_embedding)\n",
    "movie_vector = Flatten()(movie_embedding)\n",
    "user_bias_vector = Flatten()(user_bias)\n",
    "movie_bias_vector = Flatten()(movie_bias)\n",
    "\n",
    "# Multiply embeddings\n",
    "interaction = Multiply()([user_vector, movie_vector])  # Element-wise multiplication\n",
    "\n",
    "# Pass the interaction through dense layers\n",
    "dense1 = Dense(128, activation='relu')(interaction)\n",
    "dense1 = Dropout(0.2)(dense1)\n",
    "dense2 = Dense(64, activation='relu')(dense1)\n",
    "dense2 = Dropout(0.2)(dense2)\n",
    "dense3 = Dense(32, activation='relu')(dense2)\n",
    "dense4 = Dense(16, activation='relu')(dense3)\n",
    "\n",
    "# Concatenate bias terms with dense output\n",
    "final_vector = Concatenate()([dense4, user_bias_vector, movie_bias_vector])\n",
    "\n",
    "# Output layer \n",
    "output = Dense(1, activation='relu', name='rating_output')(final_vector)\n",
    "\n",
    "# Define the model\n",
    "model = Model(inputs=[user_input, movie_input], outputs=output)\n",
    "\n",
    "# Compile the model \n",
    "model.compile(loss='mse', optimizer='adam', metrics=['mean_absolute_error'])\n",
    "\n",
    "# Model summary\n",
    "model.summary()"
   ]
  },
  {
   "cell_type": "code",
   "execution_count": 17,
   "metadata": {},
   "outputs": [
    {
     "name": "stdout",
     "output_type": "stream",
     "text": [
      "Epoch 1/10\n",
      "5343/5343 [==============================] - 22s 4ms/step - loss: 1.0395 - mean_absolute_error: 0.7935 - val_loss: 0.8040 - val_mean_absolute_error: 0.7053\n",
      "Epoch 2/10\n",
      "5343/5343 [==============================] - 20s 4ms/step - loss: 0.7048 - mean_absolute_error: 0.6587 - val_loss: 0.7939 - val_mean_absolute_error: 0.6963\n",
      "Epoch 3/10\n",
      "5343/5343 [==============================] - 20s 4ms/step - loss: 0.6047 - mean_absolute_error: 0.6066 - val_loss: 0.8051 - val_mean_absolute_error: 0.7044\n",
      "Epoch 4/10\n",
      "5343/5343 [==============================] - 20s 4ms/step - loss: 0.5449 - mean_absolute_error: 0.5740 - val_loss: 0.8229 - val_mean_absolute_error: 0.7102\n",
      "Epoch 5/10\n",
      "5343/5343 [==============================] - 20s 4ms/step - loss: 0.5078 - mean_absolute_error: 0.5525 - val_loss: 0.8530 - val_mean_absolute_error: 0.7212\n",
      "Epoch 6/10\n",
      "5343/5343 [==============================] - 20s 4ms/step - loss: 0.4821 - mean_absolute_error: 0.5374 - val_loss: 0.8553 - val_mean_absolute_error: 0.7214\n",
      "Epoch 7/10\n",
      "5343/5343 [==============================] - 20s 4ms/step - loss: 0.4622 - mean_absolute_error: 0.5254 - val_loss: 0.8819 - val_mean_absolute_error: 0.7314\n",
      "Epoch 8/10\n",
      "5343/5343 [==============================] - 21s 4ms/step - loss: 0.4472 - mean_absolute_error: 0.5161 - val_loss: 0.8843 - val_mean_absolute_error: 0.7284\n",
      "Epoch 9/10\n",
      "5343/5343 [==============================] - 20s 4ms/step - loss: 0.4349 - mean_absolute_error: 0.5084 - val_loss: 0.9018 - val_mean_absolute_error: 0.7349\n",
      "Epoch 10/10\n",
      "5343/5343 [==============================] - 20s 4ms/step - loss: 0.4239 - mean_absolute_error: 0.5013 - val_loss: 0.9148 - val_mean_absolute_error: 0.7395\n"
     ]
    }
   ],
   "source": [
    "# train the model\n",
    "history = model.fit([X_train['UserID'], X_train['MovieID']], Y_train, epochs=10, batch_size=128, validation_split=0.05)"
   ]
  },
  {
   "cell_type": "code",
   "execution_count": 18,
   "metadata": {},
   "outputs": [
    {
     "name": "stdout",
     "output_type": "stream",
     "text": [
      "5625/5625 [==============================] - 7s 1ms/step - loss: 0.9010 - mean_absolute_error: 0.7324\n",
      "Test loss (MSE) on test data: 0.9010332822799683\n",
      "Test MAE on test data: 0.7324456572532654\n"
     ]
    }
   ],
   "source": [
    "# evaluate the model\n",
    "test_loss, test_mae = model.evaluate([X_test['UserID'], X_test['MovieID']], Y_test)\n",
    "print('Test loss (MSE) on test data:', test_loss)\n",
    "print('Test MAE on test data:', test_mae)"
   ]
  }
 ],
 "metadata": {
  "kernelspec": {
   "display_name": "Python 3",
   "language": "python",
   "name": "python3"
  },
  "language_info": {
   "codemirror_mode": {
    "name": "ipython",
    "version": 3
   },
   "file_extension": ".py",
   "mimetype": "text/x-python",
   "name": "python",
   "nbconvert_exporter": "python",
   "pygments_lexer": "ipython3",
   "version": "3.8.1"
  }
 },
 "nbformat": 4,
 "nbformat_minor": 2
}
